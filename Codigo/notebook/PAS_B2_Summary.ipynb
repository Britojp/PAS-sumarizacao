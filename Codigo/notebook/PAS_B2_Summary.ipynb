{
  "nbformat": 4,
  "nbformat_minor": 0,
  "metadata": {
    "colab": {
      "provenance": []
    },
    "kernelspec": {
      "name": "python3",
      "display_name": "Python 3"
    },
    "language_info": {
      "name": "python"
    }
  },
  "cells": [
    {
      "cell_type": "markdown",
      "source": [
        "1º Parte: Receber o arquivo"
      ],
      "metadata": {
        "id": "exSfiyVCrkED"
      }
    },
    {
      "cell_type": "code",
      "execution_count": null,
      "metadata": {
        "colab": {
          "base_uri": "https://localhost:8080/",
          "height": 73
        },
        "id": "qHljSgypJM6k",
        "outputId": "aab61f62-b8fc-452b-c3a6-39b9a8d96947"
      },
      "outputs": [
        {
          "output_type": "display_data",
          "data": {
            "text/plain": [
              "<IPython.core.display.HTML object>"
            ],
            "text/html": [
              "\n",
              "     <input type=\"file\" id=\"files-c08356f0-3fd1-49e5-aaf1-29bba5fdae52\" name=\"files[]\" multiple disabled\n",
              "        style=\"border:none\" />\n",
              "     <output id=\"result-c08356f0-3fd1-49e5-aaf1-29bba5fdae52\">\n",
              "      Upload widget is only available when the cell has been executed in the\n",
              "      current browser session. Please rerun this cell to enable.\n",
              "      </output>\n",
              "      <script>// Copyright 2017 Google LLC\n",
              "//\n",
              "// Licensed under the Apache License, Version 2.0 (the \"License\");\n",
              "// you may not use this file except in compliance with the License.\n",
              "// You may obtain a copy of the License at\n",
              "//\n",
              "//      http://www.apache.org/licenses/LICENSE-2.0\n",
              "//\n",
              "// Unless required by applicable law or agreed to in writing, software\n",
              "// distributed under the License is distributed on an \"AS IS\" BASIS,\n",
              "// WITHOUT WARRANTIES OR CONDITIONS OF ANY KIND, either express or implied.\n",
              "// See the License for the specific language governing permissions and\n",
              "// limitations under the License.\n",
              "\n",
              "/**\n",
              " * @fileoverview Helpers for google.colab Python module.\n",
              " */\n",
              "(function(scope) {\n",
              "function span(text, styleAttributes = {}) {\n",
              "  const element = document.createElement('span');\n",
              "  element.textContent = text;\n",
              "  for (const key of Object.keys(styleAttributes)) {\n",
              "    element.style[key] = styleAttributes[key];\n",
              "  }\n",
              "  return element;\n",
              "}\n",
              "\n",
              "// Max number of bytes which will be uploaded at a time.\n",
              "const MAX_PAYLOAD_SIZE = 100 * 1024;\n",
              "\n",
              "function _uploadFiles(inputId, outputId) {\n",
              "  const steps = uploadFilesStep(inputId, outputId);\n",
              "  const outputElement = document.getElementById(outputId);\n",
              "  // Cache steps on the outputElement to make it available for the next call\n",
              "  // to uploadFilesContinue from Python.\n",
              "  outputElement.steps = steps;\n",
              "\n",
              "  return _uploadFilesContinue(outputId);\n",
              "}\n",
              "\n",
              "// This is roughly an async generator (not supported in the browser yet),\n",
              "// where there are multiple asynchronous steps and the Python side is going\n",
              "// to poll for completion of each step.\n",
              "// This uses a Promise to block the python side on completion of each step,\n",
              "// then passes the result of the previous step as the input to the next step.\n",
              "function _uploadFilesContinue(outputId) {\n",
              "  const outputElement = document.getElementById(outputId);\n",
              "  const steps = outputElement.steps;\n",
              "\n",
              "  const next = steps.next(outputElement.lastPromiseValue);\n",
              "  return Promise.resolve(next.value.promise).then((value) => {\n",
              "    // Cache the last promise value to make it available to the next\n",
              "    // step of the generator.\n",
              "    outputElement.lastPromiseValue = value;\n",
              "    return next.value.response;\n",
              "  });\n",
              "}\n",
              "\n",
              "/**\n",
              " * Generator function which is called between each async step of the upload\n",
              " * process.\n",
              " * @param {string} inputId Element ID of the input file picker element.\n",
              " * @param {string} outputId Element ID of the output display.\n",
              " * @return {!Iterable<!Object>} Iterable of next steps.\n",
              " */\n",
              "function* uploadFilesStep(inputId, outputId) {\n",
              "  const inputElement = document.getElementById(inputId);\n",
              "  inputElement.disabled = false;\n",
              "\n",
              "  const outputElement = document.getElementById(outputId);\n",
              "  outputElement.innerHTML = '';\n",
              "\n",
              "  const pickedPromise = new Promise((resolve) => {\n",
              "    inputElement.addEventListener('change', (e) => {\n",
              "      resolve(e.target.files);\n",
              "    });\n",
              "  });\n",
              "\n",
              "  const cancel = document.createElement('button');\n",
              "  inputElement.parentElement.appendChild(cancel);\n",
              "  cancel.textContent = 'Cancel upload';\n",
              "  const cancelPromise = new Promise((resolve) => {\n",
              "    cancel.onclick = () => {\n",
              "      resolve(null);\n",
              "    };\n",
              "  });\n",
              "\n",
              "  // Wait for the user to pick the files.\n",
              "  const files = yield {\n",
              "    promise: Promise.race([pickedPromise, cancelPromise]),\n",
              "    response: {\n",
              "      action: 'starting',\n",
              "    }\n",
              "  };\n",
              "\n",
              "  cancel.remove();\n",
              "\n",
              "  // Disable the input element since further picks are not allowed.\n",
              "  inputElement.disabled = true;\n",
              "\n",
              "  if (!files) {\n",
              "    return {\n",
              "      response: {\n",
              "        action: 'complete',\n",
              "      }\n",
              "    };\n",
              "  }\n",
              "\n",
              "  for (const file of files) {\n",
              "    const li = document.createElement('li');\n",
              "    li.append(span(file.name, {fontWeight: 'bold'}));\n",
              "    li.append(span(\n",
              "        `(${file.type || 'n/a'}) - ${file.size} bytes, ` +\n",
              "        `last modified: ${\n",
              "            file.lastModifiedDate ? file.lastModifiedDate.toLocaleDateString() :\n",
              "                                    'n/a'} - `));\n",
              "    const percent = span('0% done');\n",
              "    li.appendChild(percent);\n",
              "\n",
              "    outputElement.appendChild(li);\n",
              "\n",
              "    const fileDataPromise = new Promise((resolve) => {\n",
              "      const reader = new FileReader();\n",
              "      reader.onload = (e) => {\n",
              "        resolve(e.target.result);\n",
              "      };\n",
              "      reader.readAsArrayBuffer(file);\n",
              "    });\n",
              "    // Wait for the data to be ready.\n",
              "    let fileData = yield {\n",
              "      promise: fileDataPromise,\n",
              "      response: {\n",
              "        action: 'continue',\n",
              "      }\n",
              "    };\n",
              "\n",
              "    // Use a chunked sending to avoid message size limits. See b/62115660.\n",
              "    let position = 0;\n",
              "    do {\n",
              "      const length = Math.min(fileData.byteLength - position, MAX_PAYLOAD_SIZE);\n",
              "      const chunk = new Uint8Array(fileData, position, length);\n",
              "      position += length;\n",
              "\n",
              "      const base64 = btoa(String.fromCharCode.apply(null, chunk));\n",
              "      yield {\n",
              "        response: {\n",
              "          action: 'append',\n",
              "          file: file.name,\n",
              "          data: base64,\n",
              "        },\n",
              "      };\n",
              "\n",
              "      let percentDone = fileData.byteLength === 0 ?\n",
              "          100 :\n",
              "          Math.round((position / fileData.byteLength) * 100);\n",
              "      percent.textContent = `${percentDone}% done`;\n",
              "\n",
              "    } while (position < fileData.byteLength);\n",
              "  }\n",
              "\n",
              "  // All done.\n",
              "  yield {\n",
              "    response: {\n",
              "      action: 'complete',\n",
              "    }\n",
              "  };\n",
              "}\n",
              "\n",
              "scope.google = scope.google || {};\n",
              "scope.google.colab = scope.google.colab || {};\n",
              "scope.google.colab._files = {\n",
              "  _uploadFiles,\n",
              "  _uploadFilesContinue,\n",
              "};\n",
              "})(self);\n",
              "</script> "
            ]
          },
          "metadata": {}
        },
        {
          "output_type": "stream",
          "name": "stdout",
          "text": [
            "Saving BATALHA DOS MEMES.mp4 to BATALHA DOS MEMES.mp4\n"
          ]
        }
      ],
      "source": [
        "### Receber o video no colab (Upload)\n",
        "from google.colab import files\n",
        "uploaded = files.upload() # Até ~100MB"
      ]
    },
    {
      "cell_type": "code",
      "source": [
        "### Receber o video da database\n",
        "# https://www.kaggle.com/datasets/kunwardeepak/youtube-trending-august-2020"
      ],
      "metadata": {
        "id": "oY7DKzk5eIaa"
      },
      "execution_count": null,
      "outputs": []
    },
    {
      "cell_type": "markdown",
      "source": [
        "2º Parte: Processar o arquivo (audio e frames)"
      ],
      "metadata": {
        "id": "N83AJ36LrqIV"
      }
    },
    {
      "cell_type": "code",
      "source": [
        "### Verificar a duração do video para restrições de frames e audio\n",
        "!pip install ffmpeg\n",
        "import ffmpeg\n",
        "import subprocess\n",
        "\n",
        "# Retorna a duração em segundos\n",
        "def verificarDuracaoVideo(videoEntrada):\n",
        "  try:\n",
        "    commando = [\n",
        "      'ffprobe',\n",
        "      '-i', videoEntrada,\n",
        "      '-show_entries', 'format=duration',\n",
        "      '-v', 'quiet',\n",
        "      '-of', 'csv=p=0'\n",
        "    ]\n",
        "    # Executar o comando\n",
        "    resultado = subprocess.run(commando, stdout=subprocess.PIPE, stderr=subprocess.PIPE)\n",
        "\n",
        "    stderr = resultado.stderr.decode('utf-8')\n",
        "    if stderr:\n",
        "      print(f\"Erro do ffprobe: {stderr}\")\n",
        "    # Ler a duração\n",
        "    duracao = float(resultado.stdout.decode('utf-8').strip())\n",
        "    return duracao\n",
        "  except Exception as e:\n",
        "    print(f\"Erro ao converter a duração: {e}\")\n",
        "    return None\n",
        "\n",
        "\n",
        "videoEntrada = None\n",
        "# Encontrar o video\n",
        "import os\n",
        "for arquivo in os.listdir():\n",
        "  if arquivo.endswith(\".mp4\"):\n",
        "    videoEntrada = arquivo\n",
        "    break\n",
        "\n",
        "if videoEntrada:\n",
        "  # Verificar a duração do video\n",
        "  duracaoVideo = verificarDuracaoVideo(videoEntrada)\n",
        "  print(videoEntrada,duracaoVideo)\n",
        "else:\n",
        "  print('Nenhum video encontrado!')"
      ],
      "metadata": {
        "colab": {
          "base_uri": "https://localhost:8080/"
        },
        "id": "f9gdEK0n3jPl",
        "outputId": "5bec39ef-2b95-4610-fef4-9201dcc5870a"
      },
      "execution_count": null,
      "outputs": [
        {
          "output_type": "stream",
          "name": "stdout",
          "text": [
            "Requirement already satisfied: ffmpeg in /usr/local/lib/python3.11/dist-packages (1.4)\n",
            "BATALHA DOS MEMES.mp4 134.49\n"
          ]
        }
      ]
    },
    {
      "cell_type": "code",
      "source": [
        "### Extrair o audio do video\n",
        "!pip install ffmpeg-python\n",
        "\n",
        "import ffmpeg\n",
        "import subprocess\n",
        "\n",
        "def extrair_audio(videoEntrada, localAudioSaida):\n",
        "  try:\n",
        "    subprocess.run([\n",
        "      'ffmpeg', '-i', videoEntrada,\n",
        "      '-vn', '-acodec', 'libmp3lame', '-ab', '192k', localAudioSaida\n",
        "    ], check=False)\n",
        "    print(\"Audio extraido!\")\n",
        "  except Exception as e:\n",
        "    print(f\"Erro: {e}\")\n",
        "\n",
        "videoEntrada = None\n",
        "# Encontrar o video\n",
        "import os\n",
        "for arquivo in os.listdir():\n",
        "  if arquivo.endswith(\".mp4\"):\n",
        "    videoEntrada = arquivo\n",
        "    break\n",
        "\n",
        "if videoEntrada:\n",
        "  localAudioSaida = videoEntrada.replace('.mp4', '.mp3')\n",
        "  extrair_audio(videoEntrada, localAudioSaida)\n",
        "else:\n",
        "  print('Nenhum video encontrado!')"
      ],
      "metadata": {
        "id": "wnDXNgZ8LANg",
        "colab": {
          "base_uri": "https://localhost:8080/"
        },
        "outputId": "7ae0e2e3-dadf-415c-c85f-b6f05545887a"
      },
      "execution_count": null,
      "outputs": [
        {
          "output_type": "stream",
          "name": "stdout",
          "text": [
            "Requirement already satisfied: ffmpeg-python in /usr/local/lib/python3.11/dist-packages (0.2.0)\n",
            "Requirement already satisfied: future in /usr/local/lib/python3.11/dist-packages (from ffmpeg-python) (1.0.0)\n",
            "Audio extraido!\n",
            "Requirement already satisfied: ffmpeg-python in /usr/local/lib/python3.11/dist-packages (0.2.0)\n",
            "Requirement already satisfied: future in /usr/local/lib/python3.11/dist-packages (from ffmpeg-python) (1.0.0)\n",
            "Audio extraido!\n"
          ]
        }
      ]
    },
    {
      "cell_type": "code",
      "source": [
        "### Se necessário, repartir o audio em partes menores\n",
        "!pip install ffmpeg-python\n",
        "import ffmpeg\n",
        "import os\n",
        "\n",
        "def dividirAudio(audioEntrada, localAudioSaida, tamanhoMaximo = None):\n",
        "  # Se não existir -> criar a pasta\n",
        "  if not os.path.exists(localAudioSaida):\n",
        "    os.makedirs(localAudioSaida)\n",
        "  # Tentar dividir o audio\n",
        "  try:\n",
        "    ffmpeg.input(audioEntrada).output(f\"{localAudioSaida}/chunk%03d.mp3\", f='segment', segment_time=tamanhoMaximo).run()\n",
        "    print(\"Audio dividido!\")\n",
        "  except ffmpeg.Error as e:\n",
        "    print(f\"Erro: {e.stderr.decode()}\")\n",
        "\n",
        "# Encontrar o audio\n",
        "audioEntrada = None\n",
        "for arquivo in os.listdir():\n",
        "  if arquivo.endswith(\".mp3\"):\n",
        "    audioEntrada = arquivo\n",
        "    break\n",
        "\n",
        "if audioEntrada:\n",
        "  dividirAudio(audioEntrada,'/content/Audio/', 2*60)\n",
        "else:\n",
        "  print('Nenhum audio encontrado!')"
      ],
      "metadata": {
        "id": "wATlD6KBqwx4"
      },
      "execution_count": null,
      "outputs": []
    },
    {
      "cell_type": "code",
      "source": [
        "### Extrair os frames do video\n",
        "!pip install opencv-python\n",
        "import cv2\n",
        "import time\n",
        "import os\n",
        "\n",
        "def extrairFrames(videoEntrada, localFramesSaida):\n",
        "  try:\n",
        "    # Se não existir -> criar a pasta\n",
        "    if not os.path.exists(localFramesSaida):\n",
        "      os.makedirs(localFramesSaida)\n",
        "\n",
        "    start_time = time.time() # Para o cronometro\n",
        "\n",
        "    cap = cv2.VideoCapture(videoEntrada)\n",
        "    frame_count = 0\n",
        "    frame_counter = 0\n",
        "    # Determinar intervalo da captura\n",
        "    fps = 1\n",
        "    duracaoMaximaVideo = 5*60\n",
        "    intervaloExtracao = 1.0/fps\n",
        "    if duracaoVideo > duracaoMaximaVideo:\n",
        "      intervaloExtracao = duracaoVideo/(fps*duracaoMaximaVideo)\n",
        "    # Video em si\n",
        "    while cap.isOpened():\n",
        "      ret, frame = cap.read()\n",
        "      if not ret:\n",
        "          break\n",
        "\n",
        "      current_time = cap.get(cv2.CAP_PROP_POS_MSEC) / 1000.0  # Get timestamp in seconds\n",
        "\n",
        "      # Salvar o frame a cada {intervaloExtracao}\n",
        "      if current_time >= frame_count * intervaloExtracao:\n",
        "          frame_filename = os.path.join(localFramesSaida, f\"frame_{frame_counter:04}_time_{current_time:.2f}.png\")\n",
        "          cv2.imwrite(frame_filename, frame)\n",
        "          frame_counter += 1\n",
        "          frame_count += 1\n",
        "\n",
        "      # Break para quando o video ter acabado\n",
        "      if current_time > cap.get(cv2.CAP_PROP_POS_MSEC) / 1000.0:\n",
        "          break\n",
        "\n",
        "    cap.release()\n",
        "    end_time = time.time() # Parar o cronometro\n",
        "    print('Frames extraidos')\n",
        "    print(f\"Tempo de execução: {end_time - start_time: .1f} segundos\")\n",
        "    print(f\"{(frame_counter+1)/(end_time-start_time): .2f} frames por segundo\")\n",
        "  except Exception as e:\n",
        "    print(f\"Erro: {e}\")\n",
        "\n",
        "# Encontrar o video\n",
        "videoEntrada = None\n",
        "for arquivo in os.listdir():\n",
        "  if arquivo.endswith(\".mp4\"):\n",
        "    videoEntrada = arquivo\n",
        "    break\n",
        "\n",
        "if videoEntrada:\n",
        "  extrairFrames(videoEntrada, '/content/Frames/Original/')\n",
        "else:\n",
        "  print('Nenhum video encontrado!')"
      ],
      "metadata": {
        "colab": {
          "base_uri": "https://localhost:8080/"
        },
        "id": "pqWAdTNcAiK7",
        "outputId": "8e61e8bf-5d9c-4fd2-99b1-7d4e0d3a10cc"
      },
      "execution_count": null,
      "outputs": [
        {
          "output_type": "stream",
          "name": "stdout",
          "text": [
            "Requirement already satisfied: opencv-python in /usr/local/lib/python3.11/dist-packages (4.11.0.86)\n",
            "Requirement already satisfied: numpy>=1.21.2 in /usr/local/lib/python3.11/dist-packages (from opencv-python) (1.26.4)\n",
            "Frames extraidos\n",
            "Tempo de execução:  57.0 segundos\n",
            " 2.39 frames por segundo\n"
          ]
        }
      ]
    },
    {
      "cell_type": "code",
      "source": [
        "### Processar os frames\n",
        "!pip install Pillow\n",
        "from PIL import Image\n",
        "\n",
        "def processarFrames(localFrames):\n",
        "  try:\n",
        "    # Se não existir -> criar a pasta\n",
        "    if not os.path.exists('/content/Frames/Processados/'):\n",
        "        os.makedirs('/content/Frames/Processados/')\n",
        "    # Tentar processar os frames\n",
        "    for arquivo in os.listdir(localFrames):\n",
        "      if arquivo.endswith('.png'):\n",
        "        # Imagem recebida\n",
        "        with Image.open(os.path.join(localFrames,arquivo)) as img:\n",
        "          # Verificando tamanho da imagem\n",
        "          width, height = img.size\n",
        "          if width > 1280 or height > 720: # Reduzir tamanho\n",
        "            # Seguir proporção para evitar distorção\n",
        "            proporcao = width/height\n",
        "            if proporcao > 1: # Paisagem\n",
        "              img = img.resize((1280, int(1280/proporcao)), Image.Resampling.LANCZOS)\n",
        "            else: # Retrato\n",
        "              img = img.resize((int(720*proporcao), 720), Image.Resampling.LANCZOS)\n",
        "\n",
        "            # Salvar imagem na nova pasta\n",
        "            img.save(os.path.join('/content/Frames/Processados/', arquivo))\n",
        "    print('Frames processados')\n",
        "  except Exception as e:\n",
        "    print(f\"Erro: {e}\")\n",
        "\n",
        "# Tentar processar os frames\n",
        "import os\n",
        "if os.path.exists('/content/Frames/Original/'):\n",
        "  processarFrames('/content/Frames/Original/')\n",
        "else:\n",
        "  print('Nenhum frame encontrado!')"
      ],
      "metadata": {
        "id": "juGFtwclQjR9",
        "colab": {
          "base_uri": "https://localhost:8080/"
        },
        "outputId": "85ff13a3-93b2-4b28-9e59-00427f5e62ac"
      },
      "execution_count": null,
      "outputs": [
        {
          "output_type": "stream",
          "name": "stdout",
          "text": [
            "Requirement already satisfied: Pillow in /usr/local/lib/python3.11/dist-packages (11.1.0)\n",
            "Frames processados\n"
          ]
        }
      ]
    },
    {
      "cell_type": "code",
      "source": [
        "#temp\n",
        "!clear\n",
        "import os\n",
        "print(os.listdir())\n",
        "if os.path.exists('/content/Frames/Original/'):\n",
        "  print(sorted(os.listdir('/content/Frames/Original/')))\n",
        "  print(len(os.listdir('/content/Frames/Original/')),end='\\n------\\n')\n",
        "if os.path.exists('/content/Frames/Processados/'):\n",
        "  print(sorted(os.listdir('/content/Frames/Processados/')))\n",
        "  print(len(os.listdir('/content/Frames/Processados/')),end='\\n------\\n')"
      ],
      "metadata": {
        "colab": {
          "base_uri": "https://localhost:8080/"
        },
        "id": "Vj3vDVL7_goR",
        "outputId": "e95353a2-dac3-4838-ba07-7a7089bcf5fe"
      },
      "execution_count": null,
      "outputs": [
        {
          "output_type": "stream",
          "name": "stdout",
          "text": [
            "\u001b[H\u001b[2J['.config', 'BATALHA DOS MEMES.mp4', 'BATALHA DOS MEMES.mp3', 'Frames', 'sample_data']\n",
            "['frame_0000_time_0.00.png', 'frame_0001_time_1.00.png', 'frame_0002_time_2.00.png', 'frame_0003_time_3.00.png', 'frame_0004_time_4.00.png', 'frame_0005_time_5.00.png', 'frame_0006_time_6.01.png', 'frame_0007_time_7.01.png', 'frame_0008_time_8.01.png', 'frame_0009_time_9.01.png', 'frame_0010_time_10.01.png', 'frame_0011_time_11.01.png', 'frame_0012_time_12.01.png', 'frame_0013_time_13.01.png', 'frame_0014_time_14.01.png', 'frame_0015_time_15.01.png', 'frame_0016_time_16.02.png', 'frame_0017_time_17.02.png', 'frame_0018_time_18.02.png', 'frame_0019_time_19.02.png', 'frame_0020_time_20.02.png', 'frame_0021_time_21.02.png', 'frame_0022_time_22.02.png', 'frame_0023_time_23.02.png', 'frame_0024_time_24.02.png', 'frame_0025_time_25.02.png', 'frame_0026_time_26.03.png', 'frame_0027_time_27.03.png', 'frame_0028_time_28.03.png', 'frame_0029_time_29.03.png', 'frame_0030_time_30.03.png', 'frame_0031_time_31.03.png', 'frame_0032_time_32.03.png', 'frame_0033_time_33.03.png', 'frame_0034_time_34.03.png', 'frame_0035_time_35.03.png', 'frame_0036_time_36.04.png', 'frame_0037_time_37.04.png', 'frame_0038_time_38.04.png', 'frame_0039_time_39.04.png', 'frame_0040_time_40.04.png', 'frame_0041_time_41.04.png', 'frame_0042_time_42.00.png', 'frame_0043_time_43.00.png', 'frame_0044_time_44.00.png', 'frame_0045_time_45.00.png', 'frame_0046_time_46.00.png', 'frame_0047_time_47.01.png', 'frame_0048_time_48.01.png', 'frame_0049_time_49.01.png', 'frame_0050_time_50.01.png', 'frame_0051_time_51.01.png', 'frame_0052_time_52.01.png', 'frame_0053_time_53.01.png', 'frame_0054_time_54.01.png', 'frame_0055_time_55.01.png', 'frame_0056_time_56.01.png', 'frame_0057_time_57.02.png', 'frame_0058_time_58.02.png', 'frame_0059_time_59.02.png', 'frame_0060_time_60.02.png', 'frame_0061_time_61.02.png', 'frame_0062_time_62.02.png', 'frame_0063_time_63.02.png', 'frame_0064_time_64.02.png', 'frame_0065_time_65.02.png', 'frame_0066_time_66.02.png', 'frame_0067_time_67.03.png', 'frame_0068_time_68.03.png', 'frame_0069_time_69.03.png', 'frame_0070_time_70.03.png', 'frame_0071_time_71.03.png', 'frame_0072_time_72.03.png', 'frame_0073_time_73.03.png', 'frame_0074_time_74.03.png', 'frame_0075_time_75.03.png', 'frame_0076_time_76.03.png', 'frame_0077_time_77.04.png', 'frame_0078_time_78.04.png', 'frame_0079_time_79.04.png', 'frame_0080_time_80.04.png', 'frame_0081_time_81.04.png', 'frame_0082_time_82.04.png', 'frame_0083_time_83.04.png', 'frame_0084_time_84.00.png', 'frame_0085_time_85.00.png', 'frame_0086_time_86.00.png', 'frame_0087_time_87.00.png', 'frame_0088_time_88.00.png', 'frame_0089_time_89.01.png', 'frame_0090_time_90.01.png', 'frame_0091_time_91.01.png', 'frame_0092_time_92.01.png', 'frame_0093_time_93.01.png', 'frame_0094_time_94.01.png', 'frame_0095_time_95.01.png', 'frame_0096_time_96.01.png', 'frame_0097_time_97.01.png', 'frame_0098_time_98.01.png', 'frame_0099_time_99.02.png', 'frame_0100_time_100.02.png', 'frame_0101_time_101.02.png', 'frame_0102_time_102.02.png', 'frame_0103_time_103.02.png', 'frame_0104_time_104.02.png', 'frame_0105_time_105.02.png', 'frame_0106_time_106.02.png', 'frame_0107_time_107.02.png', 'frame_0108_time_108.02.png', 'frame_0109_time_109.03.png', 'frame_0110_time_110.03.png', 'frame_0111_time_111.03.png', 'frame_0112_time_112.03.png', 'frame_0113_time_113.03.png', 'frame_0114_time_114.03.png', 'frame_0115_time_115.03.png', 'frame_0116_time_116.03.png', 'frame_0117_time_117.03.png', 'frame_0118_time_118.03.png', 'frame_0119_time_119.04.png', 'frame_0120_time_120.04.png', 'frame_0121_time_121.04.png', 'frame_0122_time_122.04.png', 'frame_0123_time_123.04.png', 'frame_0124_time_124.04.png', 'frame_0125_time_125.04.png', 'frame_0126_time_126.00.png', 'frame_0127_time_127.00.png', 'frame_0128_time_128.00.png', 'frame_0129_time_129.00.png', 'frame_0130_time_130.00.png', 'frame_0131_time_131.01.png', 'frame_0132_time_132.01.png', 'frame_0133_time_133.01.png', 'frame_0134_time_134.01.png']\n",
            "135\n",
            "------\n",
            "['frame_0000_time_0.00.png', 'frame_0001_time_1.00.png', 'frame_0002_time_2.00.png', 'frame_0003_time_3.00.png', 'frame_0004_time_4.00.png', 'frame_0005_time_5.00.png', 'frame_0006_time_6.01.png', 'frame_0007_time_7.01.png', 'frame_0008_time_8.01.png', 'frame_0009_time_9.01.png', 'frame_0010_time_10.01.png', 'frame_0011_time_11.01.png', 'frame_0012_time_12.01.png', 'frame_0013_time_13.01.png', 'frame_0014_time_14.01.png', 'frame_0015_time_15.01.png', 'frame_0016_time_16.02.png', 'frame_0017_time_17.02.png', 'frame_0018_time_18.02.png', 'frame_0019_time_19.02.png', 'frame_0020_time_20.02.png', 'frame_0021_time_21.02.png', 'frame_0022_time_22.02.png', 'frame_0023_time_23.02.png', 'frame_0024_time_24.02.png', 'frame_0025_time_25.02.png', 'frame_0026_time_26.03.png', 'frame_0027_time_27.03.png', 'frame_0028_time_28.03.png', 'frame_0029_time_29.03.png', 'frame_0030_time_30.03.png', 'frame_0031_time_31.03.png', 'frame_0032_time_32.03.png', 'frame_0033_time_33.03.png', 'frame_0034_time_34.03.png', 'frame_0035_time_35.03.png', 'frame_0036_time_36.04.png', 'frame_0037_time_37.04.png', 'frame_0038_time_38.04.png', 'frame_0039_time_39.04.png', 'frame_0040_time_40.04.png', 'frame_0041_time_41.04.png', 'frame_0042_time_42.00.png', 'frame_0043_time_43.00.png', 'frame_0044_time_44.00.png', 'frame_0045_time_45.00.png', 'frame_0046_time_46.00.png', 'frame_0047_time_47.01.png', 'frame_0048_time_48.01.png', 'frame_0049_time_49.01.png', 'frame_0050_time_50.01.png', 'frame_0051_time_51.01.png', 'frame_0052_time_52.01.png', 'frame_0053_time_53.01.png', 'frame_0054_time_54.01.png', 'frame_0055_time_55.01.png', 'frame_0056_time_56.01.png', 'frame_0057_time_57.02.png', 'frame_0058_time_58.02.png', 'frame_0059_time_59.02.png', 'frame_0060_time_60.02.png', 'frame_0061_time_61.02.png', 'frame_0062_time_62.02.png', 'frame_0063_time_63.02.png', 'frame_0064_time_64.02.png', 'frame_0065_time_65.02.png', 'frame_0066_time_66.02.png', 'frame_0067_time_67.03.png', 'frame_0068_time_68.03.png', 'frame_0069_time_69.03.png', 'frame_0070_time_70.03.png', 'frame_0071_time_71.03.png', 'frame_0072_time_72.03.png', 'frame_0073_time_73.03.png', 'frame_0074_time_74.03.png', 'frame_0075_time_75.03.png', 'frame_0076_time_76.03.png', 'frame_0077_time_77.04.png', 'frame_0078_time_78.04.png', 'frame_0079_time_79.04.png', 'frame_0080_time_80.04.png', 'frame_0081_time_81.04.png', 'frame_0082_time_82.04.png', 'frame_0083_time_83.04.png', 'frame_0084_time_84.00.png', 'frame_0085_time_85.00.png', 'frame_0086_time_86.00.png', 'frame_0087_time_87.00.png', 'frame_0088_time_88.00.png', 'frame_0089_time_89.01.png', 'frame_0090_time_90.01.png', 'frame_0091_time_91.01.png', 'frame_0092_time_92.01.png', 'frame_0093_time_93.01.png', 'frame_0094_time_94.01.png', 'frame_0095_time_95.01.png', 'frame_0096_time_96.01.png', 'frame_0097_time_97.01.png', 'frame_0098_time_98.01.png', 'frame_0099_time_99.02.png', 'frame_0100_time_100.02.png', 'frame_0101_time_101.02.png', 'frame_0102_time_102.02.png', 'frame_0103_time_103.02.png', 'frame_0104_time_104.02.png', 'frame_0105_time_105.02.png', 'frame_0106_time_106.02.png', 'frame_0107_time_107.02.png', 'frame_0108_time_108.02.png', 'frame_0109_time_109.03.png', 'frame_0110_time_110.03.png', 'frame_0111_time_111.03.png', 'frame_0112_time_112.03.png', 'frame_0113_time_113.03.png', 'frame_0114_time_114.03.png', 'frame_0115_time_115.03.png', 'frame_0116_time_116.03.png', 'frame_0117_time_117.03.png', 'frame_0118_time_118.03.png', 'frame_0119_time_119.04.png', 'frame_0120_time_120.04.png', 'frame_0121_time_121.04.png', 'frame_0122_time_122.04.png', 'frame_0123_time_123.04.png', 'frame_0124_time_124.04.png', 'frame_0125_time_125.04.png', 'frame_0126_time_126.00.png', 'frame_0127_time_127.00.png', 'frame_0128_time_128.00.png', 'frame_0129_time_129.00.png', 'frame_0130_time_130.00.png', 'frame_0131_time_131.01.png', 'frame_0132_time_132.01.png', 'frame_0133_time_133.01.png', 'frame_0134_time_134.01.png']\n",
            "135\n",
            "------\n"
          ]
        }
      ]
    },
    {
      "cell_type": "markdown",
      "source": [
        "3º Parte: Criar descrição e transcrição dos frames e áudio, respectivamente"
      ],
      "metadata": {
        "id": "izqWWCP-ryEY"
      }
    },
    {
      "cell_type": "code",
      "source": [
        "### Instalar as bibliotecas maiores\n",
        "!pip install openai-whisper\n",
        "!pip install ollama\n",
        "!pip install torch transformers pillow"
      ],
      "metadata": {
        "id": "4nTk-3ecujYG",
        "colab": {
          "base_uri": "https://localhost:8080/"
        },
        "collapsed": true,
        "outputId": "275dd7d9-dbdf-46ae-e3fd-89578adc2e28"
      },
      "execution_count": null,
      "outputs": [
        {
          "output_type": "stream",
          "name": "stdout",
          "text": [
            "Requirement already satisfied: openai-whisper in /usr/local/lib/python3.11/dist-packages (20240930)\n",
            "Requirement already satisfied: numba in /usr/local/lib/python3.11/dist-packages (from openai-whisper) (0.61.0)\n",
            "Requirement already satisfied: numpy in /usr/local/lib/python3.11/dist-packages (from openai-whisper) (1.26.4)\n",
            "Requirement already satisfied: torch in /usr/local/lib/python3.11/dist-packages (from openai-whisper) (2.5.1+cu124)\n",
            "Requirement already satisfied: tqdm in /usr/local/lib/python3.11/dist-packages (from openai-whisper) (4.67.1)\n",
            "Requirement already satisfied: more-itertools in /usr/local/lib/python3.11/dist-packages (from openai-whisper) (10.6.0)\n",
            "Requirement already satisfied: tiktoken in /usr/local/lib/python3.11/dist-packages (from openai-whisper) (0.9.0)\n",
            "Requirement already satisfied: triton>=2.0.0 in /usr/local/lib/python3.11/dist-packages (from openai-whisper) (3.1.0)\n",
            "Requirement already satisfied: filelock in /usr/local/lib/python3.11/dist-packages (from triton>=2.0.0->openai-whisper) (3.17.0)\n",
            "Requirement already satisfied: llvmlite<0.45,>=0.44.0dev0 in /usr/local/lib/python3.11/dist-packages (from numba->openai-whisper) (0.44.0)\n",
            "Requirement already satisfied: regex>=2022.1.18 in /usr/local/lib/python3.11/dist-packages (from tiktoken->openai-whisper) (2024.11.6)\n",
            "Requirement already satisfied: requests>=2.26.0 in /usr/local/lib/python3.11/dist-packages (from tiktoken->openai-whisper) (2.32.3)\n",
            "Requirement already satisfied: typing-extensions>=4.8.0 in /usr/local/lib/python3.11/dist-packages (from torch->openai-whisper) (4.12.2)\n",
            "Requirement already satisfied: networkx in /usr/local/lib/python3.11/dist-packages (from torch->openai-whisper) (3.4.2)\n",
            "Requirement already satisfied: jinja2 in /usr/local/lib/python3.11/dist-packages (from torch->openai-whisper) (3.1.5)\n",
            "Requirement already satisfied: fsspec in /usr/local/lib/python3.11/dist-packages (from torch->openai-whisper) (2024.10.0)\n",
            "Requirement already satisfied: nvidia-cuda-nvrtc-cu12==12.4.127 in /usr/local/lib/python3.11/dist-packages (from torch->openai-whisper) (12.4.127)\n",
            "Requirement already satisfied: nvidia-cuda-runtime-cu12==12.4.127 in /usr/local/lib/python3.11/dist-packages (from torch->openai-whisper) (12.4.127)\n",
            "Requirement already satisfied: nvidia-cuda-cupti-cu12==12.4.127 in /usr/local/lib/python3.11/dist-packages (from torch->openai-whisper) (12.4.127)\n",
            "Requirement already satisfied: nvidia-cudnn-cu12==9.1.0.70 in /usr/local/lib/python3.11/dist-packages (from torch->openai-whisper) (9.1.0.70)\n",
            "Requirement already satisfied: nvidia-cublas-cu12==12.4.5.8 in /usr/local/lib/python3.11/dist-packages (from torch->openai-whisper) (12.4.5.8)\n",
            "Requirement already satisfied: nvidia-cufft-cu12==11.2.1.3 in /usr/local/lib/python3.11/dist-packages (from torch->openai-whisper) (11.2.1.3)\n",
            "Requirement already satisfied: nvidia-curand-cu12==10.3.5.147 in /usr/local/lib/python3.11/dist-packages (from torch->openai-whisper) (10.3.5.147)\n",
            "Requirement already satisfied: nvidia-cusolver-cu12==11.6.1.9 in /usr/local/lib/python3.11/dist-packages (from torch->openai-whisper) (11.6.1.9)\n",
            "Requirement already satisfied: nvidia-cusparse-cu12==12.3.1.170 in /usr/local/lib/python3.11/dist-packages (from torch->openai-whisper) (12.3.1.170)\n",
            "Requirement already satisfied: nvidia-nccl-cu12==2.21.5 in /usr/local/lib/python3.11/dist-packages (from torch->openai-whisper) (2.21.5)\n",
            "Requirement already satisfied: nvidia-nvtx-cu12==12.4.127 in /usr/local/lib/python3.11/dist-packages (from torch->openai-whisper) (12.4.127)\n",
            "Requirement already satisfied: nvidia-nvjitlink-cu12==12.4.127 in /usr/local/lib/python3.11/dist-packages (from torch->openai-whisper) (12.4.127)\n",
            "Requirement already satisfied: sympy==1.13.1 in /usr/local/lib/python3.11/dist-packages (from torch->openai-whisper) (1.13.1)\n",
            "Requirement already satisfied: mpmath<1.4,>=1.1.0 in /usr/local/lib/python3.11/dist-packages (from sympy==1.13.1->torch->openai-whisper) (1.3.0)\n",
            "Requirement already satisfied: charset-normalizer<4,>=2 in /usr/local/lib/python3.11/dist-packages (from requests>=2.26.0->tiktoken->openai-whisper) (3.4.1)\n",
            "Requirement already satisfied: idna<4,>=2.5 in /usr/local/lib/python3.11/dist-packages (from requests>=2.26.0->tiktoken->openai-whisper) (3.10)\n",
            "Requirement already satisfied: urllib3<3,>=1.21.1 in /usr/local/lib/python3.11/dist-packages (from requests>=2.26.0->tiktoken->openai-whisper) (2.3.0)\n",
            "Requirement already satisfied: certifi>=2017.4.17 in /usr/local/lib/python3.11/dist-packages (from requests>=2.26.0->tiktoken->openai-whisper) (2025.1.31)\n",
            "Requirement already satisfied: MarkupSafe>=2.0 in /usr/local/lib/python3.11/dist-packages (from jinja2->torch->openai-whisper) (3.0.2)\n",
            "Requirement already satisfied: ollama in /usr/local/lib/python3.11/dist-packages (0.4.7)\n",
            "Requirement already satisfied: httpx<0.29,>=0.27 in /usr/local/lib/python3.11/dist-packages (from ollama) (0.28.1)\n",
            "Requirement already satisfied: pydantic<3.0.0,>=2.9.0 in /usr/local/lib/python3.11/dist-packages (from ollama) (2.10.6)\n",
            "Requirement already satisfied: anyio in /usr/local/lib/python3.11/dist-packages (from httpx<0.29,>=0.27->ollama) (3.7.1)\n",
            "Requirement already satisfied: certifi in /usr/local/lib/python3.11/dist-packages (from httpx<0.29,>=0.27->ollama) (2025.1.31)\n",
            "Requirement already satisfied: httpcore==1.* in /usr/local/lib/python3.11/dist-packages (from httpx<0.29,>=0.27->ollama) (1.0.7)\n",
            "Requirement already satisfied: idna in /usr/local/lib/python3.11/dist-packages (from httpx<0.29,>=0.27->ollama) (3.10)\n",
            "Requirement already satisfied: h11<0.15,>=0.13 in /usr/local/lib/python3.11/dist-packages (from httpcore==1.*->httpx<0.29,>=0.27->ollama) (0.14.0)\n",
            "Requirement already satisfied: annotated-types>=0.6.0 in /usr/local/lib/python3.11/dist-packages (from pydantic<3.0.0,>=2.9.0->ollama) (0.7.0)\n",
            "Requirement already satisfied: pydantic-core==2.27.2 in /usr/local/lib/python3.11/dist-packages (from pydantic<3.0.0,>=2.9.0->ollama) (2.27.2)\n",
            "Requirement already satisfied: typing-extensions>=4.12.2 in /usr/local/lib/python3.11/dist-packages (from pydantic<3.0.0,>=2.9.0->ollama) (4.12.2)\n",
            "Requirement already satisfied: sniffio>=1.1 in /usr/local/lib/python3.11/dist-packages (from anyio->httpx<0.29,>=0.27->ollama) (1.3.1)\n",
            "Requirement already satisfied: torch in /usr/local/lib/python3.11/dist-packages (2.5.1+cu124)\n",
            "Requirement already satisfied: transformers in /usr/local/lib/python3.11/dist-packages (4.48.3)\n",
            "Requirement already satisfied: pillow in /usr/local/lib/python3.11/dist-packages (11.1.0)\n",
            "Requirement already satisfied: filelock in /usr/local/lib/python3.11/dist-packages (from torch) (3.17.0)\n",
            "Requirement already satisfied: typing-extensions>=4.8.0 in /usr/local/lib/python3.11/dist-packages (from torch) (4.12.2)\n",
            "Requirement already satisfied: networkx in /usr/local/lib/python3.11/dist-packages (from torch) (3.4.2)\n",
            "Requirement already satisfied: jinja2 in /usr/local/lib/python3.11/dist-packages (from torch) (3.1.5)\n",
            "Requirement already satisfied: fsspec in /usr/local/lib/python3.11/dist-packages (from torch) (2024.10.0)\n",
            "Requirement already satisfied: nvidia-cuda-nvrtc-cu12==12.4.127 in /usr/local/lib/python3.11/dist-packages (from torch) (12.4.127)\n",
            "Requirement already satisfied: nvidia-cuda-runtime-cu12==12.4.127 in /usr/local/lib/python3.11/dist-packages (from torch) (12.4.127)\n",
            "Requirement already satisfied: nvidia-cuda-cupti-cu12==12.4.127 in /usr/local/lib/python3.11/dist-packages (from torch) (12.4.127)\n",
            "Requirement already satisfied: nvidia-cudnn-cu12==9.1.0.70 in /usr/local/lib/python3.11/dist-packages (from torch) (9.1.0.70)\n",
            "Requirement already satisfied: nvidia-cublas-cu12==12.4.5.8 in /usr/local/lib/python3.11/dist-packages (from torch) (12.4.5.8)\n",
            "Requirement already satisfied: nvidia-cufft-cu12==11.2.1.3 in /usr/local/lib/python3.11/dist-packages (from torch) (11.2.1.3)\n",
            "Requirement already satisfied: nvidia-curand-cu12==10.3.5.147 in /usr/local/lib/python3.11/dist-packages (from torch) (10.3.5.147)\n",
            "Requirement already satisfied: nvidia-cusolver-cu12==11.6.1.9 in /usr/local/lib/python3.11/dist-packages (from torch) (11.6.1.9)\n",
            "Requirement already satisfied: nvidia-cusparse-cu12==12.3.1.170 in /usr/local/lib/python3.11/dist-packages (from torch) (12.3.1.170)\n",
            "Requirement already satisfied: nvidia-nccl-cu12==2.21.5 in /usr/local/lib/python3.11/dist-packages (from torch) (2.21.5)\n",
            "Requirement already satisfied: nvidia-nvtx-cu12==12.4.127 in /usr/local/lib/python3.11/dist-packages (from torch) (12.4.127)\n",
            "Requirement already satisfied: nvidia-nvjitlink-cu12==12.4.127 in /usr/local/lib/python3.11/dist-packages (from torch) (12.4.127)\n",
            "Requirement already satisfied: triton==3.1.0 in /usr/local/lib/python3.11/dist-packages (from torch) (3.1.0)\n",
            "Requirement already satisfied: sympy==1.13.1 in /usr/local/lib/python3.11/dist-packages (from torch) (1.13.1)\n",
            "Requirement already satisfied: mpmath<1.4,>=1.1.0 in /usr/local/lib/python3.11/dist-packages (from sympy==1.13.1->torch) (1.3.0)\n",
            "Requirement already satisfied: huggingface-hub<1.0,>=0.24.0 in /usr/local/lib/python3.11/dist-packages (from transformers) (0.28.1)\n",
            "Requirement already satisfied: numpy>=1.17 in /usr/local/lib/python3.11/dist-packages (from transformers) (1.26.4)\n",
            "Requirement already satisfied: packaging>=20.0 in /usr/local/lib/python3.11/dist-packages (from transformers) (24.2)\n",
            "Requirement already satisfied: pyyaml>=5.1 in /usr/local/lib/python3.11/dist-packages (from transformers) (6.0.2)\n",
            "Requirement already satisfied: regex!=2019.12.17 in /usr/local/lib/python3.11/dist-packages (from transformers) (2024.11.6)\n",
            "Requirement already satisfied: requests in /usr/local/lib/python3.11/dist-packages (from transformers) (2.32.3)\n",
            "Requirement already satisfied: tokenizers<0.22,>=0.21 in /usr/local/lib/python3.11/dist-packages (from transformers) (0.21.0)\n",
            "Requirement already satisfied: safetensors>=0.4.1 in /usr/local/lib/python3.11/dist-packages (from transformers) (0.5.2)\n",
            "Requirement already satisfied: tqdm>=4.27 in /usr/local/lib/python3.11/dist-packages (from transformers) (4.67.1)\n",
            "Requirement already satisfied: MarkupSafe>=2.0 in /usr/local/lib/python3.11/dist-packages (from jinja2->torch) (3.0.2)\n",
            "Requirement already satisfied: charset-normalizer<4,>=2 in /usr/local/lib/python3.11/dist-packages (from requests->transformers) (3.4.1)\n",
            "Requirement already satisfied: idna<4,>=2.5 in /usr/local/lib/python3.11/dist-packages (from requests->transformers) (3.10)\n",
            "Requirement already satisfied: urllib3<3,>=1.21.1 in /usr/local/lib/python3.11/dist-packages (from requests->transformers) (2.3.0)\n",
            "Requirement already satisfied: certifi>=2017.4.17 in /usr/local/lib/python3.11/dist-packages (from requests->transformers) (2025.1.31)\n"
          ]
        }
      ]
    },
    {
      "cell_type": "code",
      "source": [
        "### Transcrição do audio (Whisper x Vosk)\n",
        "## Whisper é mais preciso, mas é mais caro\n",
        "## Implementação inicial com whisper, se ficar inviável implementar Vosk\n",
        "\n",
        "## Whisper: Tempo de instalação = 2m 20s\n",
        "\n",
        "!pip install openai-whisper\n",
        "import whisper\n",
        "\n",
        "def transcreverAudio(audioEntrada):\n",
        "  try:\n",
        "    # Tentar transcrever o audio\n",
        "    model = whisper.load_model(\"base\")\n",
        "    result = model.transcribe(audioEntrada, language='pt')\n",
        "    print(\"Audio Extraido!\")\n",
        "    return result[\"text\"]\n",
        "  except Exception as e:\n",
        "    print(f\"Erro: {e}\")\n",
        "    return None\n",
        "\n",
        "audioEntrada = None\n",
        "for arquivo in os.listdir():\n",
        "  if arquivo.endswith(\".mp3\"):\n",
        "    audioEntrada = arquivo\n",
        "    break\n",
        "\n",
        "if audioEntrada:\n",
        "  transcricaoAudio = None # Salvar para caso de erro\n",
        "  transcricaoAudio = transcreverAudio(audioEntrada)\n",
        "else:\n",
        "  print('Nenhum audio encontrado!')"
      ],
      "metadata": {
        "id": "7HdN2KQKWk1S",
        "colab": {
          "base_uri": "https://localhost:8080/"
        },
        "collapsed": true,
        "outputId": "c8380e39-01ed-46a1-f8a3-655c61d48b46"
      },
      "execution_count": null,
      "outputs": [
        {
          "output_type": "stream",
          "name": "stdout",
          "text": [
            "Requirement already satisfied: openai-whisper in /usr/local/lib/python3.11/dist-packages (20240930)\n",
            "Requirement already satisfied: numba in /usr/local/lib/python3.11/dist-packages (from openai-whisper) (0.61.0)\n",
            "Requirement already satisfied: numpy in /usr/local/lib/python3.11/dist-packages (from openai-whisper) (1.26.4)\n",
            "Requirement already satisfied: torch in /usr/local/lib/python3.11/dist-packages (from openai-whisper) (2.5.1+cu124)\n",
            "Requirement already satisfied: tqdm in /usr/local/lib/python3.11/dist-packages (from openai-whisper) (4.67.1)\n",
            "Requirement already satisfied: more-itertools in /usr/local/lib/python3.11/dist-packages (from openai-whisper) (10.6.0)\n",
            "Requirement already satisfied: tiktoken in /usr/local/lib/python3.11/dist-packages (from openai-whisper) (0.9.0)\n",
            "Requirement already satisfied: triton>=2.0.0 in /usr/local/lib/python3.11/dist-packages (from openai-whisper) (3.1.0)\n",
            "Requirement already satisfied: filelock in /usr/local/lib/python3.11/dist-packages (from triton>=2.0.0->openai-whisper) (3.17.0)\n",
            "Requirement already satisfied: llvmlite<0.45,>=0.44.0dev0 in /usr/local/lib/python3.11/dist-packages (from numba->openai-whisper) (0.44.0)\n",
            "Requirement already satisfied: regex>=2022.1.18 in /usr/local/lib/python3.11/dist-packages (from tiktoken->openai-whisper) (2024.11.6)\n",
            "Requirement already satisfied: requests>=2.26.0 in /usr/local/lib/python3.11/dist-packages (from tiktoken->openai-whisper) (2.32.3)\n",
            "Requirement already satisfied: typing-extensions>=4.8.0 in /usr/local/lib/python3.11/dist-packages (from torch->openai-whisper) (4.12.2)\n",
            "Requirement already satisfied: networkx in /usr/local/lib/python3.11/dist-packages (from torch->openai-whisper) (3.4.2)\n",
            "Requirement already satisfied: jinja2 in /usr/local/lib/python3.11/dist-packages (from torch->openai-whisper) (3.1.5)\n",
            "Requirement already satisfied: fsspec in /usr/local/lib/python3.11/dist-packages (from torch->openai-whisper) (2024.10.0)\n",
            "Requirement already satisfied: nvidia-cuda-nvrtc-cu12==12.4.127 in /usr/local/lib/python3.11/dist-packages (from torch->openai-whisper) (12.4.127)\n",
            "Requirement already satisfied: nvidia-cuda-runtime-cu12==12.4.127 in /usr/local/lib/python3.11/dist-packages (from torch->openai-whisper) (12.4.127)\n",
            "Requirement already satisfied: nvidia-cuda-cupti-cu12==12.4.127 in /usr/local/lib/python3.11/dist-packages (from torch->openai-whisper) (12.4.127)\n",
            "Requirement already satisfied: nvidia-cudnn-cu12==9.1.0.70 in /usr/local/lib/python3.11/dist-packages (from torch->openai-whisper) (9.1.0.70)\n",
            "Requirement already satisfied: nvidia-cublas-cu12==12.4.5.8 in /usr/local/lib/python3.11/dist-packages (from torch->openai-whisper) (12.4.5.8)\n",
            "Requirement already satisfied: nvidia-cufft-cu12==11.2.1.3 in /usr/local/lib/python3.11/dist-packages (from torch->openai-whisper) (11.2.1.3)\n",
            "Requirement already satisfied: nvidia-curand-cu12==10.3.5.147 in /usr/local/lib/python3.11/dist-packages (from torch->openai-whisper) (10.3.5.147)\n",
            "Requirement already satisfied: nvidia-cusolver-cu12==11.6.1.9 in /usr/local/lib/python3.11/dist-packages (from torch->openai-whisper) (11.6.1.9)\n",
            "Requirement already satisfied: nvidia-cusparse-cu12==12.3.1.170 in /usr/local/lib/python3.11/dist-packages (from torch->openai-whisper) (12.3.1.170)\n",
            "Requirement already satisfied: nvidia-nccl-cu12==2.21.5 in /usr/local/lib/python3.11/dist-packages (from torch->openai-whisper) (2.21.5)\n",
            "Requirement already satisfied: nvidia-nvtx-cu12==12.4.127 in /usr/local/lib/python3.11/dist-packages (from torch->openai-whisper) (12.4.127)\n",
            "Requirement already satisfied: nvidia-nvjitlink-cu12==12.4.127 in /usr/local/lib/python3.11/dist-packages (from torch->openai-whisper) (12.4.127)\n",
            "Requirement already satisfied: sympy==1.13.1 in /usr/local/lib/python3.11/dist-packages (from torch->openai-whisper) (1.13.1)\n",
            "Requirement already satisfied: mpmath<1.4,>=1.1.0 in /usr/local/lib/python3.11/dist-packages (from sympy==1.13.1->torch->openai-whisper) (1.3.0)\n",
            "Requirement already satisfied: charset-normalizer<4,>=2 in /usr/local/lib/python3.11/dist-packages (from requests>=2.26.0->tiktoken->openai-whisper) (3.4.1)\n",
            "Requirement already satisfied: idna<4,>=2.5 in /usr/local/lib/python3.11/dist-packages (from requests>=2.26.0->tiktoken->openai-whisper) (3.10)\n",
            "Requirement already satisfied: urllib3<3,>=1.21.1 in /usr/local/lib/python3.11/dist-packages (from requests>=2.26.0->tiktoken->openai-whisper) (2.3.0)\n",
            "Requirement already satisfied: certifi>=2017.4.17 in /usr/local/lib/python3.11/dist-packages (from requests>=2.26.0->tiktoken->openai-whisper) (2025.1.31)\n",
            "Requirement already satisfied: MarkupSafe>=2.0 in /usr/local/lib/python3.11/dist-packages (from jinja2->torch->openai-whisper) (3.0.2)\n"
          ]
        },
        {
          "output_type": "stream",
          "name": "stderr",
          "text": [
            "100%|███████████████████████████████████████| 139M/139M [00:18<00:00, 7.89MiB/s]\n",
            "/usr/local/lib/python3.11/dist-packages/whisper/__init__.py:150: FutureWarning: You are using `torch.load` with `weights_only=False` (the current default value), which uses the default pickle module implicitly. It is possible to construct malicious pickle data which will execute arbitrary code during unpickling (See https://github.com/pytorch/pytorch/blob/main/SECURITY.md#untrusted-models for more details). In a future release, the default value for `weights_only` will be flipped to `True`. This limits the functions that could be executed during unpickling. Arbitrary objects will no longer be allowed to be loaded via this mode unless they are explicitly allowlisted by the user via `torch.serialization.add_safe_globals`. We recommend you start setting `weights_only=True` for any use case where you don't have full control of the loaded file. Please open an issue on GitHub for any issues related to this experimental feature.\n",
            "  checkpoint = torch.load(fp, map_location=device)\n",
            "/usr/local/lib/python3.11/dist-packages/whisper/transcribe.py:126: UserWarning: FP16 is not supported on CPU; using FP32 instead\n",
            "  warnings.warn(\"FP16 is not supported on CPU; using FP32 instead\")\n"
          ]
        }
      ]
    },
    {
      "cell_type": "code",
      "source": [
        "### Descrição dos frames\n",
        "## 135 frames em 14 minutos\n",
        "## Média de 5~7 segundos por frame\n",
        "!pip install torch transformers pillow\n",
        "\n",
        "from PIL import Image\n",
        "from transformers import BlipProcessor, BlipForConditionalGeneration\n",
        "import os\n",
        "\n",
        "pastaFrames = \"/content/Frames/Processados/\" # Tentar usar os frames já processados\n",
        "\n",
        "try:\n",
        "    # Tenta configurar o modelo\n",
        "    processor = BlipProcessor.from_pretrained(\"Salesforce/blip-image-captioning-base\")\n",
        "    model = BlipForConditionalGeneration.from_pretrained(\"Salesforce/blip-image-captioning-base\")\n",
        "    # Descrição de 1 frame\n",
        "    def descrever_frame(caminho_imagem):\n",
        "        image = Image.open(caminho_imagem).convert(\"RGB\")\n",
        "\n",
        "        # Processa a imagem com o processador BLIP, retornando os tensores necessários para o modelo\n",
        "        inputs = processor(image, return_tensors=\"pt\")\n",
        "\n",
        "        # Gera a descrição da imagem a partir do modelo BLIP (max_length=100 significa que a descrição terá no máximo 100 tokens)\n",
        "        output = model.generate(**inputs, max_length=100)\n",
        "\n",
        "        # Decodifica a saída do modelo e converte para uma string legível\n",
        "        descricao = processor.decode(output[0], skip_special_tokens=True)\n",
        "        return descricao\n",
        "\n",
        "    # Lista com a descrição dos frames\n",
        "    def descreverFramesVideo(localFrames = '/content/Frames/Processados/'):\n",
        "      import time\n",
        "      listaDescricaoFrames = [] # List para armazenar as descrições\n",
        "      # Carregar vários frames\n",
        "      start_time = time.time()\n",
        "      for frame in sorted(os.listdir(localFrames)):\n",
        "          if frame.endswith((\".jpg\", \".png\")):\n",
        "              caminho = os.path.join(localFrames, frame)\n",
        "              descricao = descrever_frame(caminho)\n",
        "              # Dict para também armazenar o frame (por consequencia o timestamp)\n",
        "              infoFrame = {\n",
        "                  'frame': frame,\n",
        "                  'descricao': descricao,\n",
        "              }\n",
        "              listaDescricaoFrames.append(infoFrame)\n",
        "      end_time = time.time()\n",
        "      print('Descrição de frames criada!')\n",
        "      print(f\"{(end_time-start_time)/len(listaDescricaoFrames): .2f} segundos por frame\")\n",
        "      return listaDescricaoFrames\n",
        "\n",
        "except Exception as e:\n",
        "    print(f\"Erro: {e}\")\n",
        "\n",
        "# Usar original se não foi necessário processar\n",
        "if not os.path.exists(pastaFrames): # Frames processados não existem -> usar os originais\n",
        "  pastaFrames = '/content/Frames/Original/'\n",
        "\n",
        "if videoEntrada:\n",
        "  listDescricoesFrames = None # Salvar para caso de erro\n",
        "  listDescricoesFrames = descreverFramesVideo(pastaFrames)\n",
        "else:\n",
        "  print('Nenhum video encontrado!')"
      ],
      "metadata": {
        "id": "dSR9dBNrWpMj",
        "colab": {
          "base_uri": "https://localhost:8080/"
        },
        "outputId": "488178b0-b052-4685-bb28-7f098442b153"
      },
      "execution_count": null,
      "outputs": [
        {
          "output_type": "stream",
          "name": "stdout",
          "text": [
            "Requirement already satisfied: torch in /usr/local/lib/python3.11/dist-packages (2.5.1+cu124)\n",
            "Requirement already satisfied: transformers in /usr/local/lib/python3.11/dist-packages (4.48.3)\n",
            "Requirement already satisfied: pillow in /usr/local/lib/python3.11/dist-packages (11.1.0)\n",
            "Requirement already satisfied: filelock in /usr/local/lib/python3.11/dist-packages (from torch) (3.17.0)\n",
            "Requirement already satisfied: typing-extensions>=4.8.0 in /usr/local/lib/python3.11/dist-packages (from torch) (4.12.2)\n",
            "Requirement already satisfied: networkx in /usr/local/lib/python3.11/dist-packages (from torch) (3.4.2)\n",
            "Requirement already satisfied: jinja2 in /usr/local/lib/python3.11/dist-packages (from torch) (3.1.5)\n",
            "Requirement already satisfied: fsspec in /usr/local/lib/python3.11/dist-packages (from torch) (2024.10.0)\n",
            "Requirement already satisfied: nvidia-cuda-nvrtc-cu12==12.4.127 in /usr/local/lib/python3.11/dist-packages (from torch) (12.4.127)\n",
            "Requirement already satisfied: nvidia-cuda-runtime-cu12==12.4.127 in /usr/local/lib/python3.11/dist-packages (from torch) (12.4.127)\n",
            "Requirement already satisfied: nvidia-cuda-cupti-cu12==12.4.127 in /usr/local/lib/python3.11/dist-packages (from torch) (12.4.127)\n",
            "Requirement already satisfied: nvidia-cudnn-cu12==9.1.0.70 in /usr/local/lib/python3.11/dist-packages (from torch) (9.1.0.70)\n",
            "Requirement already satisfied: nvidia-cublas-cu12==12.4.5.8 in /usr/local/lib/python3.11/dist-packages (from torch) (12.4.5.8)\n",
            "Requirement already satisfied: nvidia-cufft-cu12==11.2.1.3 in /usr/local/lib/python3.11/dist-packages (from torch) (11.2.1.3)\n",
            "Requirement already satisfied: nvidia-curand-cu12==10.3.5.147 in /usr/local/lib/python3.11/dist-packages (from torch) (10.3.5.147)\n",
            "Requirement already satisfied: nvidia-cusolver-cu12==11.6.1.9 in /usr/local/lib/python3.11/dist-packages (from torch) (11.6.1.9)\n",
            "Requirement already satisfied: nvidia-cusparse-cu12==12.3.1.170 in /usr/local/lib/python3.11/dist-packages (from torch) (12.3.1.170)\n",
            "Requirement already satisfied: nvidia-nccl-cu12==2.21.5 in /usr/local/lib/python3.11/dist-packages (from torch) (2.21.5)\n",
            "Requirement already satisfied: nvidia-nvtx-cu12==12.4.127 in /usr/local/lib/python3.11/dist-packages (from torch) (12.4.127)\n",
            "Requirement already satisfied: nvidia-nvjitlink-cu12==12.4.127 in /usr/local/lib/python3.11/dist-packages (from torch) (12.4.127)\n",
            "Requirement already satisfied: triton==3.1.0 in /usr/local/lib/python3.11/dist-packages (from torch) (3.1.0)\n",
            "Requirement already satisfied: sympy==1.13.1 in /usr/local/lib/python3.11/dist-packages (from torch) (1.13.1)\n",
            "Requirement already satisfied: mpmath<1.4,>=1.1.0 in /usr/local/lib/python3.11/dist-packages (from sympy==1.13.1->torch) (1.3.0)\n",
            "Requirement already satisfied: huggingface-hub<1.0,>=0.24.0 in /usr/local/lib/python3.11/dist-packages (from transformers) (0.28.1)\n",
            "Requirement already satisfied: numpy>=1.17 in /usr/local/lib/python3.11/dist-packages (from transformers) (1.26.4)\n",
            "Requirement already satisfied: packaging>=20.0 in /usr/local/lib/python3.11/dist-packages (from transformers) (24.2)\n",
            "Requirement already satisfied: pyyaml>=5.1 in /usr/local/lib/python3.11/dist-packages (from transformers) (6.0.2)\n",
            "Requirement already satisfied: regex!=2019.12.17 in /usr/local/lib/python3.11/dist-packages (from transformers) (2024.11.6)\n",
            "Requirement already satisfied: requests in /usr/local/lib/python3.11/dist-packages (from transformers) (2.32.3)\n",
            "Requirement already satisfied: tokenizers<0.22,>=0.21 in /usr/local/lib/python3.11/dist-packages (from transformers) (0.21.0)\n",
            "Requirement already satisfied: safetensors>=0.4.1 in /usr/local/lib/python3.11/dist-packages (from transformers) (0.5.2)\n",
            "Requirement already satisfied: tqdm>=4.27 in /usr/local/lib/python3.11/dist-packages (from transformers) (4.67.1)\n",
            "Requirement already satisfied: MarkupSafe>=2.0 in /usr/local/lib/python3.11/dist-packages (from jinja2->torch) (3.0.2)\n",
            "Requirement already satisfied: charset-normalizer<4,>=2 in /usr/local/lib/python3.11/dist-packages (from requests->transformers) (3.4.1)\n",
            "Requirement already satisfied: idna<4,>=2.5 in /usr/local/lib/python3.11/dist-packages (from requests->transformers) (3.10)\n",
            "Requirement already satisfied: urllib3<3,>=1.21.1 in /usr/local/lib/python3.11/dist-packages (from requests->transformers) (2.3.0)\n",
            "Requirement already satisfied: certifi>=2017.4.17 in /usr/local/lib/python3.11/dist-packages (from requests->transformers) (2025.1.31)\n",
            "Descrição de frames criada!\n",
            " 7.29 segundos por frame\n"
          ]
        }
      ]
    },
    {
      "cell_type": "markdown",
      "source": [
        "4º Parte: Criação do sumário"
      ],
      "metadata": {
        "id": "nfW5ESbzd9iZ"
      }
    },
    {
      "cell_type": "markdown",
      "source": [
        "Tentativa usando Deepseek"
      ],
      "metadata": {
        "id": "5wvtD76xDBl9"
      }
    },
    {
      "cell_type": "code",
      "source": [
        "### Tentativa de criação de contexto, criar uma descrição entre dois frames vizinhos (deepseek)\n",
        "######## INCOMPLETO, checar chaveAPI e analisaVizinhos\n",
        "######## Arrumar a localização para usar a variavel descricoesFrames\n",
        "!pip install requests\n",
        "import requests\n",
        "import json\n",
        "\n",
        "# Configurar para o uso\n",
        "chaveAPI = \"\" # Adicionar uma chave\n",
        "url = \"https://api.deepseek.ai/v1/analyze\" # Alterar dependendo\n",
        "\n",
        "# Request headers com autorização\n",
        "headers = {\n",
        "    \"Authorization\": f\"Bearer {chaveAPI}\",\n",
        "    \"Content-Type\": \"application/json\"\n",
        "}\n",
        "\n",
        "# Fazer a analise entre a descrição de dois frames\n",
        "def analisaVizinhosDeepseek(descricao1, descricao2):\n",
        "  conteudo = {\n",
        "      'descricao1': descricao1,\n",
        "      'descricao2': descricao2,\n",
        "  }\n",
        "  response = requests.post(url, headers=headers, json=conteudo)\n",
        "  # Verificando sucesso\n",
        "  if response.status_code == 200:\n",
        "      return response.json() # Tentar alterar para uma string\n",
        "      # Encontrar o campo que armazena o texto criado\n",
        "      #try:\n",
        "      #  # Extrai a string do campo apropriado do JSON\n",
        "      #  return response.json().get('texto', None)\n",
        "      #except ValueError:\n",
        "      #  return 'Erro na análise da resposta'\n",
        "  else:\n",
        "    print(f\"Error: {response.status_code}, {response.text}\")\n",
        "    return None\n",
        "\n",
        "# Criar a lista com as novas descrições\n",
        "def descricaoFramesVizinhosDeepseek():\n",
        "  listDescricoesVizinhos = []\n",
        "  listDescricoes = descricaoFrames() # Local já está com valor padrão correto\n",
        "  for i in range(0, len(listDescricoes) - 1, 2):\n",
        "    resposta = analisaVizinhosDeepseek(listDescricoes[i]['descricao'], listDescricoes[i+1]['descricao'])\n",
        "    if resposta:\n",
        "      # Armazenar as informações dos frames e a nova descrição\n",
        "      dictResposta = {\n",
        "          'frame1': listDescricoes[i]['frame'],\n",
        "          'frame2': listDescricoes[i+1]['frame'],\n",
        "          'descricao': resposta,\n",
        "      }\n",
        "      listDescricoesVizinhos.append(resposta)\n",
        "  # Com a lista criada:\n",
        "  if len(listDescricoesVizinhos) == len(listDescricoes) - 1: # Todos os elementos tiveram a descrição criada\n",
        "    print('Descrição contextualizada criada!')\n",
        "    return listDescricoesVizinhos\n",
        "  else: # Algum não foi criado\n",
        "    return None"
      ],
      "metadata": {
        "id": "vRm0pdxcWxD5"
      },
      "execution_count": null,
      "outputs": []
    },
    {
      "cell_type": "code",
      "source": [
        "### Sumarizar a parte visual do video (deepseek)\n",
        "######## INCOMPLETO, checar chaveAPI\n",
        "!pip install requests\n",
        "import requests\n",
        "import json\n",
        "\n",
        "# Configurar para o uso\n",
        "chaveAPI = \"\" # Adicionar uma chave\n",
        "url = \"https://api.deepseek.ai/v1/analyze\" # Alterar dependendo\n",
        "\n",
        "# Request headers com autorização\n",
        "headers = {\n",
        "    \"Authorization\": f\"Bearer {chaveAPI}\",\n",
        "    \"Content-Type\": \"application/json\"\n",
        "}\n",
        "\n",
        "# Fazer a analise entre múltiplas descrições\n",
        "def analisaDescricoesFramesDeepseek(descricoes):\n",
        "    # Combine todas as descrições em um formato adequado para a API\n",
        "    conteudo = {'descricoes': descricoes}\n",
        "\n",
        "    response = requests.post(url, headers=headers, json=conteudo)\n",
        "\n",
        "    # Verificando sucesso\n",
        "    if response.status_code == 200:\n",
        "        return response.json()  # Retorna a resposta JSON completa\n",
        "    else:\n",
        "        print(f\"Error: {response.status_code}, {response.text}\")\n",
        "        return None\n",
        "\n",
        "# Criar a lista com as novas descrições\n",
        "def analiseFramesDeepseek():\n",
        "  listDescricoesVizinhos = []\n",
        "  #listDescricoes = descricaoFrames()  # Local já está com valor padrão correto\n",
        "  listDescricoes = descricaoFramesVizinhosDeepseek() # Tentar usar o texto contextualizado\n",
        "  # Agrupar todas as descrições em uma lista única\n",
        "  descricoes = [d['descricao'] for d in listDescricoes]\n",
        "  # Chamar a função de análise para todas as descrições\n",
        "  resposta = analisaDescricoesFramesDeepseek(descricoes)\n",
        "  if resposta:\n",
        "    print('Descrição contextualizada criada!')\n",
        "  return resposta"
      ],
      "metadata": {
        "id": "6CTLfRtxW-3T"
      },
      "execution_count": null,
      "outputs": []
    },
    {
      "cell_type": "code",
      "source": [
        "### Criação do sumário final, sumarizar com a transcrição do audio e descrição dos frames (deepseek)\n"
      ],
      "metadata": {
        "id": "T16pagLaC5ES"
      },
      "execution_count": null,
      "outputs": []
    },
    {
      "cell_type": "markdown",
      "source": [
        "Tentativa usando o ollama"
      ],
      "metadata": {
        "id": "UndAoGglDEld"
      }
    },
    {
      "cell_type": "code",
      "source": [
        "### Tentativa de criação de contexto, criar uma descrição entre dois frames vizinhos (LLaMa)\n",
        "# Baseado em https://github.com/GoloMarcos/LLM4BrazilianFakeNews/blob/main/Evaluation.ipynb\n",
        "!pip install ollama\n",
        "import ollama\n",
        "\n",
        "# Fazer a analise entre a descrição de dois frames\n",
        "def analisaVizinhosLlama(model, desc1, desc2):\n",
        "  descricao1 = desc1['descricao']\n",
        "  frame1_time = desc1['frame'].split('_time_')[1].split('.')[0]\n",
        "  descricao2 = desc2['descricao']\n",
        "  frame2_time = desc2['frame'].split('_time_')[1].split('.')[0]\n",
        "\n",
        "  response = ollama.chat(model=model, messages=[{\n",
        "    'role': 'user',\n",
        "    'content': f'Considere as duas descrições em inglês a seguir e resuma-as em pt-br, contextualizando elas em conjunto. Explique como as duas se relacionam/diferenciam e o que elas podem significar em conjunto\\nDescrição 1: {descricao1} instante {frame1_time}\\nDescrição 2: {descricao2} instante {frame2_time}\\nSeu resumo deve integrar as duas descrições e proporcionar uma visão clara e coerente do contexto geral.'\n",
        "  },\n",
        "  ])\n",
        "  return response['message']['content']\n",
        "\n",
        "# Criar a lista com as novas descrições\n",
        "model = 'llama3:8b'\n",
        "def descricaoFramesVizinhosLlama(listDescricoesRecebida=None):\n",
        "  listDescricoesVizinhos = []\n",
        "  #listDescricoes = listDescricoesRecebida\n",
        "  for i in range(0, len(listDescricoesFrames) - 1, 2):\n",
        "    resposta = analisaVizinhosLlama(model, listDescricoesFrames[i], listDescricoesFrames[i+1])\n",
        "    if resposta:\n",
        "      # Armazenar as informações dos frames e a nova descrição\n",
        "      dictResposta = {\n",
        "          'frame1': listDescricoesFrames[i]['frame'],\n",
        "          'frame2': listDescricoesFrames[i+1]['frame'],\n",
        "          'descricao': resposta,\n",
        "      }\n",
        "      listDescricoesVizinhos.append(dictResposta)\n",
        "  # Com a lista criada:\n",
        "  if len(listDescricoesVizinhos) == len(listDescricoesFrames) - 1: # Todos os elementos tiveram a descrição criada\n",
        "    print('Descrição contextualizada criada!')\n",
        "    return listDescricoesVizinhos\n",
        "  else:\n",
        "    return None\n",
        "\n",
        "\n",
        "if listDescricoesFrames:\n",
        "  ## receber\n",
        "  resultadoContexto = descricaoFramesVizinhosLlama(listDescricoesFrames)\n",
        "else:\n",
        "    print('Nenhuma descrição encontrada!')"
      ],
      "metadata": {
        "id": "jl4cYAjejFKf",
        "collapsed": true,
        "colab": {
          "base_uri": "https://localhost:8080/"
        },
        "outputId": "c47db2e9-c33c-46bd-bece-9a623e7ae6ad"
      },
      "execution_count": null,
      "outputs": [
        {
          "output_type": "stream",
          "name": "stdout",
          "text": [
            "Requirement already satisfied: ollama in /usr/local/lib/python3.11/dist-packages (0.4.7)\n",
            "Requirement already satisfied: httpx<0.29,>=0.27 in /usr/local/lib/python3.11/dist-packages (from ollama) (0.28.1)\n",
            "Requirement already satisfied: pydantic<3.0.0,>=2.9.0 in /usr/local/lib/python3.11/dist-packages (from ollama) (2.10.6)\n",
            "Requirement already satisfied: anyio in /usr/local/lib/python3.11/dist-packages (from httpx<0.29,>=0.27->ollama) (3.7.1)\n",
            "Requirement already satisfied: certifi in /usr/local/lib/python3.11/dist-packages (from httpx<0.29,>=0.27->ollama) (2025.1.31)\n",
            "Requirement already satisfied: httpcore==1.* in /usr/local/lib/python3.11/dist-packages (from httpx<0.29,>=0.27->ollama) (1.0.7)\n",
            "Requirement already satisfied: idna in /usr/local/lib/python3.11/dist-packages (from httpx<0.29,>=0.27->ollama) (3.10)\n",
            "Requirement already satisfied: h11<0.15,>=0.13 in /usr/local/lib/python3.11/dist-packages (from httpcore==1.*->httpx<0.29,>=0.27->ollama) (0.14.0)\n",
            "Requirement already satisfied: annotated-types>=0.6.0 in /usr/local/lib/python3.11/dist-packages (from pydantic<3.0.0,>=2.9.0->ollama) (0.7.0)\n",
            "Requirement already satisfied: pydantic-core==2.27.2 in /usr/local/lib/python3.11/dist-packages (from pydantic<3.0.0,>=2.9.0->ollama) (2.27.2)\n",
            "Requirement already satisfied: typing-extensions>=4.12.2 in /usr/local/lib/python3.11/dist-packages (from pydantic<3.0.0,>=2.9.0->ollama) (4.12.2)\n",
            "Requirement already satisfied: sniffio>=1.1 in /usr/local/lib/python3.11/dist-packages (from anyio->httpx<0.29,>=0.27->ollama) (1.3.1)\n",
            "Nenhum video encontrado!\n"
          ]
        }
      ]
    },
    {
      "cell_type": "code",
      "source": [
        "### Sumarizar a parte visual do video (LLaMa)\n",
        "# Baseado em https://github.com/GoloMarcos/LLM4BrazilianFakeNews/blob/main/Evaluation.ipynb\n",
        "!pip install ollama\n",
        "import ollama\n",
        "\n",
        "# Fazer a analise entre a descrição de dois frames\n",
        "def analisaDescricoesFramesLlama(model, descricoes):\n",
        "  # Criação do prompt para todas as descrições\n",
        "  prompt = \"Considere as seguintes descrições e resuma-as, contextualizando todas em conjunto. Explique como elas se relacionam/diferenciam e o que elas podem significar em conjunto:\\n\"\n",
        "\n",
        "  # Adiconar cada descrição e sua respectiva timestamp\n",
        "  for i, desc in enumerate(descricoes):\n",
        "    #prompt += f\"\\nDescrição {i + 1}: {desc['descricao']} instante {desc['frame'].split('_time_')[1].split('.')[0]}\"\n",
        "    prompt += f\"\\nDescrição {i + 1}: {desc['descricao']} instante {desc['frame1'].split('_time_')[1].split('.')[0]} até instante {desc['frame2'].split('_time_')[1].split('.')[0]}\"\n",
        "\n",
        "  prompt += \"\\nSeu resumo deve integrar todas as descrições e fornecer uma visão clara e coerente do contexto geral.\"\n",
        "\n",
        "  response = ollama.chat(model=model, messages=[{\n",
        "    'role': 'user',\n",
        "    'content': prompt,\n",
        "  },\n",
        "  ])\n",
        "  return response['message']['content']\n",
        "\n",
        "# Criar a lista com as novas descrições\n",
        "model = 'llama3:8b'\n",
        "def analiseFramesLlama():\n",
        "  listDescricoesVizinhos = []\n",
        "  #listDescricoes = descricaoFrames() # Local já está com valor padrão correto\n",
        "  listDescricoes = descricaoFramesVizinhosLlama() # Tentar usar o texto contextualizado\n",
        "\n",
        "  if listDescricoes:\n",
        "    # Chama a função de análise para todas as descrições de uma vez\n",
        "    resposta = analisaDescricoesFramesLlama('llama3:8b', listDescricoes)\n",
        "    if resposta:\n",
        "      print('Descrição final dos frames criada!')\n",
        "    return resposta # Pode ser vazia\n",
        "  else:\n",
        "      return None"
      ],
      "metadata": {
        "id": "a6IU534zsKMb"
      },
      "execution_count": null,
      "outputs": []
    },
    {
      "cell_type": "code",
      "source": [
        "### Criação do sumário final, sumarizar com a transcrição do audio e descrição dos frames (LLaMa)\n"
      ],
      "metadata": {
        "id": "r2gDpgKfxcGw"
      },
      "execution_count": null,
      "outputs": []
    },
    {
      "cell_type": "markdown",
      "source": [
        "Possíveis APIs para a 4ª parte: uso de BIRCH (Balanced Iterative Reducing and Clustering using Hierarchies), Hugging Face Models"
      ],
      "metadata": {
        "id": "TgXH2IfWxjS_"
      }
    },
    {
      "cell_type": "code",
      "source": [
        "# Q"
      ],
      "metadata": {
        "id": "kkyfa3V6zHEx"
      },
      "execution_count": null,
      "outputs": []
    },
    {
      "cell_type": "markdown",
      "source": [
        "5º Parte: Análise do sumário com dados do video"
      ],
      "metadata": {
        "id": "tsghD7AOeB1p"
      }
    }
  ]
}