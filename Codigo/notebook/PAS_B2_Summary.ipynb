{
  "cells": [
    {
      "cell_type": "markdown",
      "metadata": {
        "id": "exSfiyVCrkED"
      },
      "source": [
        "1º Parte: Receber o arquivo"
      ]
    },
    {
      "cell_type": "code",
      "execution_count": null,
      "metadata": {
        "colab": {
          "base_uri": "https://localhost:8080/",
          "height": 38
        },
        "id": "qHljSgypJM6k",
        "outputId": "7b59b639-074a-4f89-93e2-dd5306bc3419"
      },
      "outputs": [
        {
          "data": {
            "text/html": [
              "\n",
              "     <input type=\"file\" id=\"files-d0ac3b86-0415-4b1c-9266-49f4a82a04cb\" name=\"files[]\" multiple disabled\n",
              "        style=\"border:none\" />\n",
              "     <output id=\"result-d0ac3b86-0415-4b1c-9266-49f4a82a04cb\">\n",
              "      Upload widget is only available when the cell has been executed in the\n",
              "      current browser session. Please rerun this cell to enable.\n",
              "      </output>\n",
              "      <script>// Copyright 2017 Google LLC\n",
              "//\n",
              "// Licensed under the Apache License, Version 2.0 (the \"License\");\n",
              "// you may not use this file except in compliance with the License.\n",
              "// You may obtain a copy of the License at\n",
              "//\n",
              "//      http://www.apache.org/licenses/LICENSE-2.0\n",
              "//\n",
              "// Unless required by applicable law or agreed to in writing, software\n",
              "// distributed under the License is distributed on an \"AS IS\" BASIS,\n",
              "// WITHOUT WARRANTIES OR CONDITIONS OF ANY KIND, either express or implied.\n",
              "// See the License for the specific language governing permissions and\n",
              "// limitations under the License.\n",
              "\n",
              "/**\n",
              " * @fileoverview Helpers for google.colab Python module.\n",
              " */\n",
              "(function(scope) {\n",
              "function span(text, styleAttributes = {}) {\n",
              "  const element = document.createElement('span');\n",
              "  element.textContent = text;\n",
              "  for (const key of Object.keys(styleAttributes)) {\n",
              "    element.style[key] = styleAttributes[key];\n",
              "  }\n",
              "  return element;\n",
              "}\n",
              "\n",
              "// Max number of bytes which will be uploaded at a time.\n",
              "const MAX_PAYLOAD_SIZE = 100 * 1024;\n",
              "\n",
              "function _uploadFiles(inputId, outputId) {\n",
              "  const steps = uploadFilesStep(inputId, outputId);\n",
              "  const outputElement = document.getElementById(outputId);\n",
              "  // Cache steps on the outputElement to make it available for the next call\n",
              "  // to uploadFilesContinue from Python.\n",
              "  outputElement.steps = steps;\n",
              "\n",
              "  return _uploadFilesContinue(outputId);\n",
              "}\n",
              "\n",
              "// This is roughly an async generator (not supported in the browser yet),\n",
              "// where there are multiple asynchronous steps and the Python side is going\n",
              "// to poll for completion of each step.\n",
              "// This uses a Promise to block the python side on completion of each step,\n",
              "// then passes the result of the previous step as the input to the next step.\n",
              "function _uploadFilesContinue(outputId) {\n",
              "  const outputElement = document.getElementById(outputId);\n",
              "  const steps = outputElement.steps;\n",
              "\n",
              "  const next = steps.next(outputElement.lastPromiseValue);\n",
              "  return Promise.resolve(next.value.promise).then((value) => {\n",
              "    // Cache the last promise value to make it available to the next\n",
              "    // step of the generator.\n",
              "    outputElement.lastPromiseValue = value;\n",
              "    return next.value.response;\n",
              "  });\n",
              "}\n",
              "\n",
              "/**\n",
              " * Generator function which is called between each async step of the upload\n",
              " * process.\n",
              " * @param {string} inputId Element ID of the input file picker element.\n",
              " * @param {string} outputId Element ID of the output display.\n",
              " * @return {!Iterable<!Object>} Iterable of next steps.\n",
              " */\n",
              "function* uploadFilesStep(inputId, outputId) {\n",
              "  const inputElement = document.getElementById(inputId);\n",
              "  inputElement.disabled = false;\n",
              "\n",
              "  const outputElement = document.getElementById(outputId);\n",
              "  outputElement.innerHTML = '';\n",
              "\n",
              "  const pickedPromise = new Promise((resolve) => {\n",
              "    inputElement.addEventListener('change', (e) => {\n",
              "      resolve(e.target.files);\n",
              "    });\n",
              "  });\n",
              "\n",
              "  const cancel = document.createElement('button');\n",
              "  inputElement.parentElement.appendChild(cancel);\n",
              "  cancel.textContent = 'Cancel upload';\n",
              "  const cancelPromise = new Promise((resolve) => {\n",
              "    cancel.onclick = () => {\n",
              "      resolve(null);\n",
              "    };\n",
              "  });\n",
              "\n",
              "  // Wait for the user to pick the files.\n",
              "  const files = yield {\n",
              "    promise: Promise.race([pickedPromise, cancelPromise]),\n",
              "    response: {\n",
              "      action: 'starting',\n",
              "    }\n",
              "  };\n",
              "\n",
              "  cancel.remove();\n",
              "\n",
              "  // Disable the input element since further picks are not allowed.\n",
              "  inputElement.disabled = true;\n",
              "\n",
              "  if (!files) {\n",
              "    return {\n",
              "      response: {\n",
              "        action: 'complete',\n",
              "      }\n",
              "    };\n",
              "  }\n",
              "\n",
              "  for (const file of files) {\n",
              "    const li = document.createElement('li');\n",
              "    li.append(span(file.name, {fontWeight: 'bold'}));\n",
              "    li.append(span(\n",
              "        `(${file.type || 'n/a'}) - ${file.size} bytes, ` +\n",
              "        `last modified: ${\n",
              "            file.lastModifiedDate ? file.lastModifiedDate.toLocaleDateString() :\n",
              "                                    'n/a'} - `));\n",
              "    const percent = span('0% done');\n",
              "    li.appendChild(percent);\n",
              "\n",
              "    outputElement.appendChild(li);\n",
              "\n",
              "    const fileDataPromise = new Promise((resolve) => {\n",
              "      const reader = new FileReader();\n",
              "      reader.onload = (e) => {\n",
              "        resolve(e.target.result);\n",
              "      };\n",
              "      reader.readAsArrayBuffer(file);\n",
              "    });\n",
              "    // Wait for the data to be ready.\n",
              "    let fileData = yield {\n",
              "      promise: fileDataPromise,\n",
              "      response: {\n",
              "        action: 'continue',\n",
              "      }\n",
              "    };\n",
              "\n",
              "    // Use a chunked sending to avoid message size limits. See b/62115660.\n",
              "    let position = 0;\n",
              "    do {\n",
              "      const length = Math.min(fileData.byteLength - position, MAX_PAYLOAD_SIZE);\n",
              "      const chunk = new Uint8Array(fileData, position, length);\n",
              "      position += length;\n",
              "\n",
              "      const base64 = btoa(String.fromCharCode.apply(null, chunk));\n",
              "      yield {\n",
              "        response: {\n",
              "          action: 'append',\n",
              "          file: file.name,\n",
              "          data: base64,\n",
              "        },\n",
              "      };\n",
              "\n",
              "      let percentDone = fileData.byteLength === 0 ?\n",
              "          100 :\n",
              "          Math.round((position / fileData.byteLength) * 100);\n",
              "      percent.textContent = `${percentDone}% done`;\n",
              "\n",
              "    } while (position < fileData.byteLength);\n",
              "  }\n",
              "\n",
              "  // All done.\n",
              "  yield {\n",
              "    response: {\n",
              "      action: 'complete',\n",
              "    }\n",
              "  };\n",
              "}\n",
              "\n",
              "scope.google = scope.google || {};\n",
              "scope.google.colab = scope.google.colab || {};\n",
              "scope.google.colab._files = {\n",
              "  _uploadFiles,\n",
              "  _uploadFilesContinue,\n",
              "};\n",
              "})(self);\n",
              "</script> "
            ],
            "text/plain": [
              "<IPython.core.display.HTML object>"
            ]
          },
          "metadata": {},
          "output_type": "display_data"
        }
      ],
      "source": [
        "### Receber o video no colab (Upload)\n",
        "from google.colab import files\n",
        "uploaded = files.upload() # Até ~100MB"
      ]
    },
    {
      "cell_type": "markdown",
      "metadata": {
        "id": "N83AJ36LrqIV"
      },
      "source": [
        "2º Parte: Processar o arquivo (audio e frames)"
      ]
    },
    {
      "cell_type": "code",
      "execution_count": null,
      "metadata": {
        "id": "wnDXNgZ8LANg"
      },
      "outputs": [],
      "source": [
        "### Extrair o audio do video\n",
        "# Biblioteca para o processamento\n",
        "!pip install ffmpeg-python\n",
        "\n",
        "import ffmpeg\n",
        "\n",
        "def extrair_audio(videoEntrada, localAudioSaida):\n",
        "  try:\n",
        "    (\n",
        "        ffmpeg\n",
        "        .input(videoEntrada)\n",
        "        .output(localAudioSaida, acodec=\"libmp3lame\", ab=\"192k\")\n",
        "        .run(overwrite_output=True)\n",
        "    )\n",
        "    print(\"Audio extraido!\")\n",
        "  except ffmpeg.Error as e:\n",
        "    print(f\"Erro: {e.stderr.decode()}\")\n",
        "\n",
        "videoEntrada = None\n",
        "# Encontrar o video\n",
        "import os\n",
        "for arquivo in os.listdir():\n",
        "  if arquivo.endswith(\".mp4\"):\n",
        "    videoEntrada = arquivo\n",
        "    break\n",
        "\n",
        "if videoEntrada:\n",
        "  localAudioSaida = videoEntrada.replace('.mp4', '.mp3')\n",
        "  extrair_audio(videoEntrada, localAudioSaida)\n",
        "else:\n",
        "  print('Nenhum video encontrado!')"
      ]
    },
    {
      "cell_type": "code",
      "execution_count": null,
      "metadata": {
        "id": "wATlD6KBqwx4"
      },
      "outputs": [],
      "source": [
        "### Se necessário, repartir o audio em partes menores\n",
        "!pip install ffmpeg-python\n",
        "import ffmpeg\n",
        "import os\n",
        "\n",
        "def dividirAudio(audioEntrada, localAudioSaida, tamanhoMaximo = None):\n",
        "  # Se não existir -> criar a pasta\n",
        "  if not os.path.exists(output_dir):\n",
        "    os.makedirs(output_dir)\n",
        "  # Tentar dividir o audio\n",
        "  try:\n",
        "    ffmpeg.input(input_file).output(f\"{output_dir}/chunk%03d.mp3\", f='segment', segment_time=chunk_duration).run()\n",
        "    print(\"Audio dividido!\")\n",
        "  except ffmpeg.Error as e:\n",
        "    print(f\"Erro: {e.stderr.decode()}\")\n",
        "\n",
        "# Encontrar o audio\n",
        "audioEntrada = None\n",
        "for arquivo in os.listdir():\n",
        "  if arquivo.endswith(\".mp3\"):\n",
        "    audioEntrada = arquivo\n",
        "    break\n",
        "\n",
        "if audioEntrada:\n",
        "  transcreverAudio(audioEntrada,'/content/Audio/', 2*60)\n",
        "else:\n",
        "  print('Nenhum audio encontrado!')"
      ]
    },
    {
      "cell_type": "code",
      "execution_count": null,
      "metadata": {
        "id": "2ng5LPgWNoOG"
      },
      "outputs": [],
      "source": [
        "### Extrair os frames do video\n",
        "!pip install ffmpeg-python\n",
        "\n",
        "import ffmpeg\n",
        "import os\n",
        "\n",
        "def extrairFrames(videoEntrada, localFramesSaida):\n",
        "  try:\n",
        "    # Se não existir -> criar a pasta\n",
        "    if not os.path.exists(localFramesSaida):\n",
        "        os.makedirs(localFramesSaida)\n",
        "    # Tentar a extração de frames\n",
        "    (\n",
        "        ffmpeg\n",
        "        .input(videoEntrada)\n",
        "        .filter('fps', fps=1)  # Extrair 1 frame por segundo\n",
        "        .output(os.path.join(localFramesSaida, 'frame_%04d_time_%0.2f.jpg'), start_number=0)  # Nome do arquivo terá um contador de 4 digitos e a timestamp do frame\n",
        "        .run(overwrite_output=True)\n",
        "    )\n",
        "    print(\"Frames extraidos!\")\n",
        "  except ffmpeg.Error as e:\n",
        "    print(f\"Erro: {e.stderr.decode()}\")\n",
        "\n",
        "# Encontrar o video\n",
        "videoEntrada = None\n",
        "for arquivo in os.listdir():\n",
        "  if arquivo.endswith(\".mp4\"):\n",
        "    videoEntrada = arquivo\n",
        "    break\n",
        "\n",
        "if videoEntrada:\n",
        "  extrairFrames(videoEntrada, '/content/Frames/Original/')\n",
        "else:\n",
        "  print('Nenhum video encontrado!')"
      ]
    },
    {
      "cell_type": "code",
      "execution_count": null,
      "metadata": {
        "id": "juGFtwclQjR9"
      },
      "outputs": [],
      "source": [
        "### Processar os frames\n"
      ]
    },
    {
      "cell_type": "markdown",
      "metadata": {
        "id": "izqWWCP-ryEY"
      },
      "source": [
        "3º Parte: Criar descrição e transcrição dos frames e áudio, respectivamente"
      ]
    },
    {
      "cell_type": "code",
      "execution_count": null,
      "metadata": {
        "id": "7HdN2KQKWk1S"
      },
      "outputs": [],
      "source": [
        "### Transcrição do audio (Whisper x Vosk)\n",
        "## Whisper é mais preciso, mas é mais caro\n",
        "## Implementação inicial com whisper, se ficar inviável implementar Vosk\n"
      ]
    },
    {
      "cell_type": "code",
      "execution_count": null,
      "metadata": {
        "id": "dSR9dBNrWpMj"
      },
      "outputs": [],
      "source": [
        "### Descrição dos frames\n"
      ]
    },
    {
      "cell_type": "code",
      "execution_count": null,
      "metadata": {
        "id": "vRm0pdxcWxD5"
      },
      "outputs": [],
      "source": [
        "### Tentativa de criação de contexto, criar uma descrição entre dois frames vizinhos (Hugging Face Models? LLaMa?)\n"
      ]
    },
    {
      "cell_type": "code",
      "execution_count": null,
      "metadata": {
        "id": "6CTLfRtxW-3T"
      },
      "outputs": [],
      "source": [
        "### Sumarizar a parte visual do video (Hugging Face Models? LLaMa?)\n"
      ]
    },
    {
      "cell_type": "code",
      "execution_count": null,
      "metadata": {
        "id": "7m_C5SwkXF2s"
      },
      "outputs": [],
      "source": [
        "### Criação do sumário final, sumarizar com a transcrição do audio e descrição dos frames (Hugging Face Models? LLaMa?)\n"
      ]
    }
  ],
  "metadata": {
    "colab": {
      "provenance": []
    },
    "kernelspec": {
      "display_name": "Python 3",
      "name": "python3"
    },
    "language_info": {
      "name": "python"
    }
  },
  "nbformat": 4,
  "nbformat_minor": 0
}
